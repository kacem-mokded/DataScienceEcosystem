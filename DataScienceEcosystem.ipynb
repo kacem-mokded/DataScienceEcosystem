{
 "cells": [
  {
   "cell_type": "markdown",
   "id": "9a7c9522",
   "metadata": {},
   "source": [
    "# Data Science Tools and Ecosystem"
   ]
  },
  {
   "cell_type": "markdown",
   "id": "3b7a2dd2",
   "metadata": {},
   "source": [
    "In this notebook, Data Science Tools and Ecosystem are summarized."
   ]
  },
  {
   "cell_type": "markdown",
   "id": "d2555d22",
   "metadata": {},
   "source": [
    "**Objectives:**\n",
    "List popular languages for Data Science\n",
    "- Python\n",
    "- Java\n",
    "- Javascript\n",
    "- R\n",
    "- C#"
   ]
  },
  {
   "cell_type": "markdown",
   "id": "efb2d802",
   "metadata": {},
   "source": [
    "Some of the popular languages that Data Scientists use are:\n",
    "- Python\n",
    "- R\n",
    "- Julia\n",
    "- SQL"
   ]
  },
  {
   "cell_type": "markdown",
   "id": "5a4d3c4b",
   "metadata": {},
   "source": [
    "Some of the commonly used libraries used by Data Scientists include:\n",
    "- NumPy\n",
    "- Keras\n",
    "- Pandas\n",
    "- Matplotlib"
   ]
  },
  {
   "cell_type": "markdown",
   "id": "80c8d1dd",
   "metadata": {},
   "source": [
    "| Data Science Tools |\n",
    "|:-|\n",
    "|Jupyter Notebooks|\n",
    "|R Studio|\n",
    "|Apache|"
   ]
  },
  {
   "cell_type": "markdown",
   "id": "c5256eb2",
   "metadata": {},
   "source": [
    "### Below are a few examples of evaluating arithmetic expressions in Python"
   ]
  },
  {
   "cell_type": "markdown",
   "id": "88702c83",
   "metadata": {},
   "source": [
    "This a simple arithmetic expression to mutiply then add integers"
   ]
  },
  {
   "cell_type": "code",
   "execution_count": 26,
   "id": "2d655f9b",
   "metadata": {},
   "outputs": [
    {
     "data": {
      "text/plain": [
       "17"
      ]
     },
     "execution_count": 26,
     "metadata": {},
     "output_type": "execute_result"
    }
   ],
   "source": [
    "(3*4)+5"
   ]
  },
  {
   "cell_type": "markdown",
   "id": "cc1e992a",
   "metadata": {},
   "source": [
    "This will convert 200 minutes to hours by diving by 60"
   ]
  },
  {
   "cell_type": "code",
   "execution_count": 27,
   "id": "c95de41a",
   "metadata": {},
   "outputs": [
    {
     "name": "stdout",
     "output_type": "stream",
     "text": [
      "200 minutes equal to 3 hours 20 minutes\n"
     ]
    }
   ],
   "source": [
    "total = 200\n",
    "minutes = 200 % 60\n",
    "hours = 200 // 60\n",
    "print(total,\"minutes equal to\",hours,\"hours\" ,minutes,\"minutes\")"
   ]
  },
  {
   "cell_type": "markdown",
   "id": "32fca954",
   "metadata": {},
   "source": [
    "## Author\n",
    "Kacem Mokded"
   ]
  }
 ],
 "metadata": {
  "kernelspec": {
   "display_name": "Python 3 (ipykernel)",
   "language": "python",
   "name": "python3"
  },
  "language_info": {
   "codemirror_mode": {
    "name": "ipython",
    "version": 3
   },
   "file_extension": ".py",
   "mimetype": "text/x-python",
   "name": "python",
   "nbconvert_exporter": "python",
   "pygments_lexer": "ipython3",
   "version": "3.9.13"
  }
 },
 "nbformat": 4,
 "nbformat_minor": 5
}
